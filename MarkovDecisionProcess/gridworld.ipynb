{
 "cells": [
  {
   "cell_type": "code",
   "execution_count": 1,
   "metadata": {},
   "outputs": [],
   "source": [
    "import warnings\n",
    "warnings.filterwarnings(\"ignore\", category=DeprecationWarning)\n",
    "\n",
    "from gridworld import gridworld, policy_eval, policy_iter, value_iter, gridworld_ep, grid_search"
   ]
  },
  {
   "cell_type": "markdown",
   "metadata": {},
   "source": [
    "**Note: source code are in ./gridworld.py**"
   ]
  },
  {
   "cell_type": "code",
   "execution_count": 2,
   "metadata": {},
   "outputs": [
    {
     "name": "stdout",
     "output_type": "stream",
     "text": [
      "Policy visualized from policy iteration:\n",
      "-----------------------------------\n",
      "e\tnesw\tw\tnesw\tw\t\n",
      "\n",
      "ne\tn\tnw\tw\tw\t\n",
      "\n",
      "ne\tn\tnw\tnw\tnw\t\n",
      "\n",
      "ne\tn\tnw\tnw\tnw\t\n",
      "\n",
      "ne\tn\tnw\tnw\tnw\t\n",
      "\n",
      "-----------------------------------\n",
      "###################################\n",
      "-----------------------------------\n",
      "Policy visualized from value iteration:\n",
      "e\tn\tw\tn\tw\t\n",
      "\n",
      "e\tn\tn\tw\tw\t\n",
      "\n",
      "e\tn\tn\tn\tn\t\n",
      "\n",
      "e\tn\tn\tn\tn\t\n",
      "\n",
      "e\tn\tn\tn\tn\t\n",
      "\n",
      "-----------------------------------\n"
     ]
    }
   ],
   "source": [
    "P = gridworld(slip_prob=0.2)\n",
    "V = policy_eval(P)\n",
    "\n",
    "# policy iteration\n",
    "print(\"Policy visualized from policy iteration:\")\n",
    "print(\"-----------------------------------\")\n",
    "V, policy = policy_iter(P)\n",
    "print(\"-----------------------------------\")\n",
    "print(\"###################################\")\n",
    "print(\"-----------------------------------\")\n",
    "print(\"Policy visualized from value iteration:\")\n",
    "V, policy = value_iter(P)\n",
    "print(\"-----------------------------------\")\n"
   ]
  },
  {
   "cell_type": "code",
   "execution_count": 3,
   "metadata": {},
   "outputs": [
    {
     "name": "stdout",
     "output_type": "stream",
     "text": [
      "\n",
      "\n",
      "Start of Episodic Task\n",
      "-----------------------------------\n",
      "π visualized from value iteration:\n",
      "e\tn\tw\tn\ts\t\n",
      "\n",
      "e\tn\tn\tw\tw\t\n",
      "\n",
      "e\tn\tn\tn\tn\t\n",
      "\n",
      "e\tn\tn\tw\tn\t\n",
      "\n",
      "n\tn\tn\tn\tn\t\n",
      "\n",
      "-----------------------------------\n"
     ]
    }
   ],
   "source": [
    "print(\"\\n\")\n",
    "print(\"Start of Episodic Task\")\n",
    "P_ep = gridworld_ep(slip_prob=0.2)\n",
    "print(\"-----------------------------------\")\n",
    "print(\"π visualized from value iteration:\")\n",
    "V_ep, policy_ep = value_iter(P = P_ep, gamma=0.9)\n",
    "print(\"-----------------------------------\")"
   ]
  },
  {
   "cell_type": "code",
   "execution_count": 4,
   "metadata": {},
   "outputs": [
    {
     "name": "stdout",
     "output_type": "stream",
     "text": [
      "The critical gamma value is:  0.868\n"
     ]
    }
   ],
   "source": [
    "import sys\n",
    "import os\n",
    "\n",
    "sys.stdout = open(os.devnull, 'w')\n",
    "critical_gamma = grid_search()\n",
    "sys.stdout = sys.__stdout__\n",
    "print(\"The critical gamma value is: \", critical_gamma)"
   ]
  }
 ],
 "metadata": {
  "kernelspec": {
   "display_name": "base",
   "language": "python",
   "name": "python3"
  },
  "language_info": {
   "codemirror_mode": {
    "name": "ipython",
    "version": 3
   },
   "file_extension": ".py",
   "mimetype": "text/x-python",
   "name": "python",
   "nbconvert_exporter": "python",
   "pygments_lexer": "ipython3",
   "version": "3.10.5"
  }
 },
 "nbformat": 4,
 "nbformat_minor": 2
}
